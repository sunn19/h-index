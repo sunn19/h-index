{
 "cells": [
  {
   "cell_type": "code",
   "execution_count": null,
   "metadata": {},
   "outputs": [],
   "source": [
    "# 引入必要的库\n",
    "import numpy as np\n",
    "import pandas as pd\n",
    "import matplotlib.pyplot as plt\n",
    "import seaborn as sns\n",
    "\n",
    "inputfile = '/Users/sunnan/Downloads/2020年数模校内赛题目/预测/预测.xlsx'\n",
    "data = pd.read_excel(inputfile,header = None)\n",
    "family = data.values\n",
    "\n",
    "index = family[1:63,1]\n",
    "name = list(family[1:63,0])\n",
    "\n",
    "fig, ax = plt.subplots(figsize=(9, 2))\n",
    "\n",
    "plt.bar(name,index,color=['royalblue','gold'])\n",
    "plt.xticks(name,name,rotation=60,fontsize=7)\n",
    "plt.title('The predicted h-index of Fu Q')\n",
    "#显示坐标上的数字\n",
    "for a, b in zip(name, index):\n",
    "        plt.text(a, b + 0.05, '%.0f' % b, ha='center', va='bottom', fontsize=6)  # fontsize表示柱坐标上显示字体的大小\n",
    "\n",
    "sns.despine();#在画完图之后插入这一句\n",
    "plt.grid(linestyle=\"--\", alpha=0.3)\n",
    "\n",
    "\n",
    "plt.show()\n",
    "\n",
    "fig.savefig('预测.eps',dpi=600,format='eps',bbox_inches='tight')"
   ]
  },
  {
   "cell_type": "code",
   "execution_count": null,
   "metadata": {},
   "outputs": [],
   "source": []
  }
 ],
 "metadata": {
  "kernelspec": {
   "display_name": "Python 3",
   "language": "python",
   "name": "python3"
  },
  "language_info": {
   "codemirror_mode": {
    "name": "ipython",
    "version": 3
   },
   "file_extension": ".py",
   "mimetype": "text/x-python",
   "name": "python",
   "nbconvert_exporter": "python",
   "pygments_lexer": "ipython3",
   "version": "3.7.6"
  }
 },
 "nbformat": 4,
 "nbformat_minor": 4
}
